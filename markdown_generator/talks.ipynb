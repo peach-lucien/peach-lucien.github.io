{
 "cells": [
  {
   "cell_type": "markdown",
   "metadata": {},
   "source": [
    "# Talks markdown generator for academicpages\n",
    "\n",
    "Takes a TSV of talks with metadata and converts them for use with [academicpages.github.io](academicpages.github.io). This is an interactive Jupyter notebook ([see more info here](http://jupyter-notebook-beginner-guide.readthedocs.io/en/latest/what_is_jupyter.html)). The core python code is also in `talks.py`. Run either from the `markdown_generator` folder after replacing `talks.tsv` with one containing your data.\n",
    "\n",
    "TODO: Make this work with BibTex and other databases, rather than Stuart's non-standard TSV format and citation style."
   ]
  },
  {
   "cell_type": "code",
   "execution_count": 1,
   "metadata": {},
   "outputs": [],
   "source": [
    "import pandas as pd\n",
    "import os"
   ]
  },
  {
   "cell_type": "markdown",
   "metadata": {},
   "source": [
    "## Data format\n",
    "\n",
    "The TSV needs to have the following columns: title, type, url_slug, venue, date, location, talk_url, description, with a header at the top. Many of these fields can be blank, but the columns must be in the TSV.\n",
    "\n",
    "- Fields that cannot be blank: `title`, `url_slug`, `date`. All else can be blank. `type` defaults to \"Talk\" \n",
    "- `date` must be formatted as YYYY-MM-DD.\n",
    "- `url_slug` will be the descriptive part of the .md file and the permalink URL for the page about the paper. \n",
    "    - The .md file will be `YYYY-MM-DD-[url_slug].md` and the permalink will be `https://[yourdomain]/talks/YYYY-MM-DD-[url_slug]`\n",
    "    - The combination of `url_slug` and `date` must be unique, as it will be the basis for your filenames\n",
    "\n",
    "This is how the raw file looks (it doesn't look pretty, use a spreadsheet or other program to edit and create)."
   ]
  },
  {
   "cell_type": "code",
   "execution_count": 2,
   "metadata": {},
   "outputs": [
    {
     "name": "stdout",
     "output_type": "stream",
     "text": [
      "title\ttype\turl_slug\tvenue\tdate\tlocation\ttalk_url\tdescription\r\n",
      "Highly Comparative Graph Analysis\tTalk\tcomplexnet\tThe 9th International Conference on Complex Networks and their Applications\t2020-12-03\tMadrid, Spain (Virtual)\t\t\r\n",
      "Overshooting behaviours in networks\tTalk\tcoxic\tCOXIC\t2020-12-14\tLondon, UK\t\t\r\n",
      "Good practices in distributed and online learning\tPanel discussion\tifest\tiFest 2019\t2019-08-12\tAlexandria, US\t\t\r\n",
      "Tremor Analysis in Essential Tremor patients\tTalk\tiop\tComplexity in the 21st Century. Institute of Physics\t2019-07-18\tLondon, UK\t\t\r\n",
      "Using time-series engagement data to predict student Performance\tTalk\tgmac\tGMAC Leadership conference\t2019-01-12\tFort Lauderdale, US\t\t\r\n",
      "Imperial College Business School\tTalk\troundtable\tBusiness School Round Table\t2018-11-27\tLondon, UK\t\t\r\n",
      "Learning analytics dashboard and student engagement behaviours\tTalk\tfome\tFOME Oslo\t2018-11-15\tOslo, Norway\t\t\r\n",
      "Predicting patient tremor response to TACS\tTalk\tcmph\tCentre for Mathematical Precision Healthcare\t2018-10-20\tLondon, UK\t\t\r\n",
      "Predicting the effect of mutations on protein dynamics using graph theory\tPoster\ttokyotech\tTokyo Tech-Imperial College workshop – Bioscience and its interface with technology\t2016-11-05\tTokyo, Japan\t\t\r\n",
      "Markov Stability of Protein Structures\tPoster\tbiophys\tConformational ensembles from experimental data and computer simulations, Biophysical Society\t2017-08-02\tBerlin, Germany\t\t\r\n"
     ]
    }
   ],
   "source": [
    "!cat talks.tsv"
   ]
  },
  {
   "cell_type": "markdown",
   "metadata": {},
   "source": [
    "## Import TSV\n",
    "\n",
    "Pandas makes this easy with the read_csv function. We are using a TSV, so we specify the separator as a tab, or `\\t`.\n",
    "\n",
    "I found it important to put this data in a tab-separated values format, because there are a lot of commas in this kind of data and comma-separated values can get messed up. However, you can modify the import statement, as pandas also has read_excel(), read_json(), and others."
   ]
  },
  {
   "cell_type": "code",
   "execution_count": 3,
   "metadata": {},
   "outputs": [
    {
     "data": {
      "text/html": [
       "<div>\n",
       "<style scoped>\n",
       "    .dataframe tbody tr th:only-of-type {\n",
       "        vertical-align: middle;\n",
       "    }\n",
       "\n",
       "    .dataframe tbody tr th {\n",
       "        vertical-align: top;\n",
       "    }\n",
       "\n",
       "    .dataframe thead th {\n",
       "        text-align: right;\n",
       "    }\n",
       "</style>\n",
       "<table border=\"1\" class=\"dataframe\">\n",
       "  <thead>\n",
       "    <tr style=\"text-align: right;\">\n",
       "      <th></th>\n",
       "      <th>title</th>\n",
       "      <th>type</th>\n",
       "      <th>url_slug</th>\n",
       "      <th>venue</th>\n",
       "      <th>date</th>\n",
       "      <th>location</th>\n",
       "      <th>talk_url</th>\n",
       "      <th>description</th>\n",
       "    </tr>\n",
       "  </thead>\n",
       "  <tbody>\n",
       "    <tr>\n",
       "      <th>0</th>\n",
       "      <td>Highly Comparative Graph Analysis</td>\n",
       "      <td>Talk</td>\n",
       "      <td>complexnet</td>\n",
       "      <td>The 9th International Conference on Complex Ne...</td>\n",
       "      <td>2020-12-03</td>\n",
       "      <td>Madrid, Spain (Virtual)</td>\n",
       "      <td>NaN</td>\n",
       "      <td>NaN</td>\n",
       "    </tr>\n",
       "    <tr>\n",
       "      <th>1</th>\n",
       "      <td>Overshooting behaviours in networks</td>\n",
       "      <td>Talk</td>\n",
       "      <td>coxic</td>\n",
       "      <td>COXIC</td>\n",
       "      <td>2020-12-14</td>\n",
       "      <td>London, UK</td>\n",
       "      <td>NaN</td>\n",
       "      <td>NaN</td>\n",
       "    </tr>\n",
       "    <tr>\n",
       "      <th>2</th>\n",
       "      <td>Good practices in distributed and online learning</td>\n",
       "      <td>Panel discussion</td>\n",
       "      <td>ifest</td>\n",
       "      <td>iFest 2019</td>\n",
       "      <td>2019-08-12</td>\n",
       "      <td>Alexandria, US</td>\n",
       "      <td>NaN</td>\n",
       "      <td>NaN</td>\n",
       "    </tr>\n",
       "    <tr>\n",
       "      <th>3</th>\n",
       "      <td>Tremor Analysis in Essential Tremor patients</td>\n",
       "      <td>Talk</td>\n",
       "      <td>iop</td>\n",
       "      <td>Complexity in the 21st Century. Institute of P...</td>\n",
       "      <td>2019-07-18</td>\n",
       "      <td>London, UK</td>\n",
       "      <td>NaN</td>\n",
       "      <td>NaN</td>\n",
       "    </tr>\n",
       "    <tr>\n",
       "      <th>4</th>\n",
       "      <td>Using time-series engagement data to predict s...</td>\n",
       "      <td>Talk</td>\n",
       "      <td>gmac</td>\n",
       "      <td>GMAC Leadership conference</td>\n",
       "      <td>2019-01-12</td>\n",
       "      <td>Fort Lauderdale, US</td>\n",
       "      <td>NaN</td>\n",
       "      <td>NaN</td>\n",
       "    </tr>\n",
       "    <tr>\n",
       "      <th>5</th>\n",
       "      <td>Imperial College Business School</td>\n",
       "      <td>Talk</td>\n",
       "      <td>roundtable</td>\n",
       "      <td>Business School Round Table</td>\n",
       "      <td>2018-11-27</td>\n",
       "      <td>London, UK</td>\n",
       "      <td>NaN</td>\n",
       "      <td>NaN</td>\n",
       "    </tr>\n",
       "    <tr>\n",
       "      <th>6</th>\n",
       "      <td>Learning analytics dashboard and student engag...</td>\n",
       "      <td>Talk</td>\n",
       "      <td>fome</td>\n",
       "      <td>FOME Oslo</td>\n",
       "      <td>2018-11-15</td>\n",
       "      <td>Oslo, Norway</td>\n",
       "      <td>NaN</td>\n",
       "      <td>NaN</td>\n",
       "    </tr>\n",
       "    <tr>\n",
       "      <th>7</th>\n",
       "      <td>Predicting patient tremor response to TACS</td>\n",
       "      <td>Talk</td>\n",
       "      <td>cmph</td>\n",
       "      <td>Centre for Mathematical Precision Healthcare</td>\n",
       "      <td>2018-10-20</td>\n",
       "      <td>London, UK</td>\n",
       "      <td>NaN</td>\n",
       "      <td>NaN</td>\n",
       "    </tr>\n",
       "    <tr>\n",
       "      <th>8</th>\n",
       "      <td>Predicting the effect of mutations on protein ...</td>\n",
       "      <td>Poster</td>\n",
       "      <td>tokyotech</td>\n",
       "      <td>Tokyo Tech-Imperial College workshop – Bioscie...</td>\n",
       "      <td>2016-11-05</td>\n",
       "      <td>Tokyo, Japan</td>\n",
       "      <td>NaN</td>\n",
       "      <td>NaN</td>\n",
       "    </tr>\n",
       "    <tr>\n",
       "      <th>9</th>\n",
       "      <td>Markov Stability of Protein Structures</td>\n",
       "      <td>Poster</td>\n",
       "      <td>biophys</td>\n",
       "      <td>Conformational ensembles from experimental dat...</td>\n",
       "      <td>2017-08-02</td>\n",
       "      <td>Berlin, Germany</td>\n",
       "      <td>NaN</td>\n",
       "      <td>NaN</td>\n",
       "    </tr>\n",
       "  </tbody>\n",
       "</table>\n",
       "</div>"
      ],
      "text/plain": [
       "                                               title              type  \\\n",
       "0                  Highly Comparative Graph Analysis              Talk   \n",
       "1                Overshooting behaviours in networks              Talk   \n",
       "2  Good practices in distributed and online learning  Panel discussion   \n",
       "3       Tremor Analysis in Essential Tremor patients              Talk   \n",
       "4  Using time-series engagement data to predict s...              Talk   \n",
       "5                   Imperial College Business School              Talk   \n",
       "6  Learning analytics dashboard and student engag...              Talk   \n",
       "7         Predicting patient tremor response to TACS              Talk   \n",
       "8  Predicting the effect of mutations on protein ...            Poster   \n",
       "9             Markov Stability of Protein Structures            Poster   \n",
       "\n",
       "     url_slug                                              venue        date  \\\n",
       "0  complexnet  The 9th International Conference on Complex Ne...  2020-12-03   \n",
       "1       coxic                                              COXIC  2020-12-14   \n",
       "2       ifest                                         iFest 2019  2019-08-12   \n",
       "3         iop  Complexity in the 21st Century. Institute of P...  2019-07-18   \n",
       "4        gmac                         GMAC Leadership conference  2019-01-12   \n",
       "5  roundtable                        Business School Round Table  2018-11-27   \n",
       "6        fome                                          FOME Oslo  2018-11-15   \n",
       "7        cmph       Centre for Mathematical Precision Healthcare  2018-10-20   \n",
       "8   tokyotech  Tokyo Tech-Imperial College workshop – Bioscie...  2016-11-05   \n",
       "9     biophys  Conformational ensembles from experimental dat...  2017-08-02   \n",
       "\n",
       "                  location  talk_url  description  \n",
       "0  Madrid, Spain (Virtual)       NaN          NaN  \n",
       "1               London, UK       NaN          NaN  \n",
       "2           Alexandria, US       NaN          NaN  \n",
       "3               London, UK       NaN          NaN  \n",
       "4      Fort Lauderdale, US       NaN          NaN  \n",
       "5               London, UK       NaN          NaN  \n",
       "6             Oslo, Norway       NaN          NaN  \n",
       "7               London, UK       NaN          NaN  \n",
       "8             Tokyo, Japan       NaN          NaN  \n",
       "9          Berlin, Germany       NaN          NaN  "
      ]
     },
     "execution_count": 3,
     "metadata": {},
     "output_type": "execute_result"
    }
   ],
   "source": [
    "talks = pd.read_csv(\"talks.tsv\", sep=\"\\t\", header=0)\n",
    "talks"
   ]
  },
  {
   "cell_type": "markdown",
   "metadata": {},
   "source": [
    "## Escape special characters\n",
    "\n",
    "YAML is very picky about how it takes a valid string, so we are replacing single and double quotes (and ampersands) with their HTML encoded equivilents. This makes them look not so readable in raw format, but they are parsed and rendered nicely."
   ]
  },
  {
   "cell_type": "code",
   "execution_count": 4,
   "metadata": {},
   "outputs": [],
   "source": [
    "html_escape_table = {\n",
    "    \"&\": \"&amp;\",\n",
    "    '\"': \"&quot;\",\n",
    "    \"'\": \"&apos;\"\n",
    "    }\n",
    "\n",
    "def html_escape(text):\n",
    "    if type(text) is str:\n",
    "        return \"\".join(html_escape_table.get(c,c) for c in text)\n",
    "    else:\n",
    "        return \"False\""
   ]
  },
  {
   "cell_type": "markdown",
   "metadata": {},
   "source": [
    "## Creating the markdown files\n",
    "\n",
    "This is where the heavy lifting is done. This loops through all the rows in the TSV dataframe, then starts to concatentate a big string (```md```) that contains the markdown for each type. It does the YAML metadata first, then does the description for the individual page."
   ]
  },
  {
   "cell_type": "code",
   "execution_count": 5,
   "metadata": {},
   "outputs": [],
   "source": [
    "loc_dict = {}\n",
    "\n",
    "for row, item in talks.iterrows():\n",
    "    \n",
    "    md_filename = str(item.date) + \"-\" + item.url_slug + \".md\"\n",
    "    html_filename = str(item.date) + \"-\" + item.url_slug \n",
    "    year = item.date[:4]\n",
    "    \n",
    "    md = \"---\\ntitle: \\\"\"   + item.title + '\"\\n'\n",
    "    md += \"collection: talks\" + \"\\n\"\n",
    "    \n",
    "    if len(str(item.type)) > 3:\n",
    "        md += 'type: \"' + item.type + '\"\\n'\n",
    "    else:\n",
    "        md += 'type: \"Talk\"\\n'\n",
    "    \n",
    "    md += \"permalink: /talks/\" + html_filename + \"\\n\"\n",
    "    \n",
    "    if len(str(item.venue)) > 3:\n",
    "        md += 'venue: \"' + item.venue + '\"\\n'\n",
    "        \n",
    "    if len(str(item.location)) > 3:\n",
    "        md += \"date: \" + str(item.date) + \"\\n\"\n",
    "    \n",
    "    if len(str(item.location)) > 3:\n",
    "        md += 'location: \"' + str(item.location) + '\"\\n'\n",
    "           \n",
    "    md += \"---\\n\"\n",
    "    \n",
    "    \n",
    "    if len(str(item.talk_url)) > 3:\n",
    "        md += \"\\n[More information here](\" + item.talk_url + \")\\n\" \n",
    "        \n",
    "    \n",
    "    if len(str(item.description)) > 3:\n",
    "        md += \"\\n\" + html_escape(item.description) + \"\\n\"\n",
    "        \n",
    "        \n",
    "    md_filename = os.path.basename(md_filename)\n",
    "    #print(md)\n",
    "    \n",
    "    with open(\"../_talks/\" + md_filename, 'w') as f:\n",
    "        f.write(md)"
   ]
  },
  {
   "cell_type": "markdown",
   "metadata": {},
   "source": [
    "These files are in the talks directory, one directory below where we're working from."
   ]
  },
  {
   "cell_type": "code",
   "execution_count": 6,
   "metadata": {},
   "outputs": [
    {
     "name": "stdout",
     "output_type": "stream",
     "text": [
      "2016-11-05-tokyotech.md  2018-11-27-roundtable.md  2020-12-03-complexnet.md\r\n",
      "2017-08-02-biophys.md\t 2019-01-12-gmac.md\t   2020-12-14-coxic.md\r\n",
      "2018-10-20-cmph.md\t 2019-07-18-iop.md\r\n",
      "2018-11-15-fome.md\t 2019-08-12-ifest.md\r\n"
     ]
    }
   ],
   "source": [
    "!ls ../_talks"
   ]
  },
  {
   "cell_type": "code",
   "execution_count": 7,
   "metadata": {},
   "outputs": [
    {
     "name": "stdout",
     "output_type": "stream",
     "text": [
      "cat: ../_talks/2013-03-01-tutorial-1.md: No such file or directory\r\n"
     ]
    }
   ],
   "source": [
    "!cat ../_talks/2013-03-01-tutorial-1.md"
   ]
  },
  {
   "cell_type": "code",
   "execution_count": null,
   "metadata": {},
   "outputs": [],
   "source": []
  }
 ],
 "metadata": {
  "kernelspec": {
   "display_name": "Python 3",
   "language": "python",
   "name": "python3"
  },
  "language_info": {
   "codemirror_mode": {
    "name": "ipython",
    "version": 3
   },
   "file_extension": ".py",
   "mimetype": "text/x-python",
   "name": "python",
   "nbconvert_exporter": "python",
   "pygments_lexer": "ipython3",
   "version": "3.8.5"
  }
 },
 "nbformat": 4,
 "nbformat_minor": 1
}
